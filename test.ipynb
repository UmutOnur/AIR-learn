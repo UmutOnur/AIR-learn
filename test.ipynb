{
 "cells": [
  {
   "cell_type": "code",
   "execution_count": 2,
   "id": "d7dc37fe-8f25-4d98-8b7d-c7e422c527b0",
   "metadata": {},
   "outputs": [],
   "source": [
    "import pandas as pd\n",
    "import numpy as np\n",
    "import seaborn as sns"
   ]
  },
  {
   "cell_type": "code",
   "execution_count": 3,
   "id": "26429dcc",
   "metadata": {},
   "outputs": [],
   "source": [
    "df = sns.load_dataset('planets')"
   ]
  },
  {
   "cell_type": "markdown",
   "id": "21c5eaa5",
   "metadata": {},
   "source": [
    "### Print/ Display the first 5 rows of dataframe"
   ]
  },
  {
   "cell_type": "code",
   "execution_count": 4,
   "id": "f57c2abf-fa5a-4b72-953f-3e63422dcdde",
   "metadata": {},
   "outputs": [
    {
     "name": "stdout",
     "output_type": "stream",
     "text": [
      "            method  number  orbital_period   mass  distance  year\n",
      "0  Radial Velocity       1         269.300   7.10     77.40  2006\n",
      "1  Radial Velocity       1         874.774   2.21     56.95  2008\n",
      "2  Radial Velocity       1         763.000   2.60     19.84  2011\n",
      "3  Radial Velocity       1         326.030  19.40    110.62  2007\n",
      "4  Radial Velocity       1         516.220  10.50    119.47  2009\n"
     ]
    }
   ],
   "source": [
    "# your code here\n",
    "print(df.head(5))"
   ]
  },
  {
   "cell_type": "markdown",
   "id": "24308186",
   "metadata": {},
   "source": [
    "### Print/ Display the last 5 rows of dataframe"
   ]
  },
  {
   "cell_type": "code",
   "execution_count": 5,
   "id": "4c27adad-ccd9-4871-8d81-dcc11c742dae",
   "metadata": {},
   "outputs": [
    {
     "name": "stdout",
     "output_type": "stream",
     "text": [
      "       method  number  orbital_period  mass  distance  year\n",
      "1030  Transit       1        3.941507   NaN     172.0  2006\n",
      "1031  Transit       1        2.615864   NaN     148.0  2007\n",
      "1032  Transit       1        3.191524   NaN     174.0  2007\n",
      "1033  Transit       1        4.125083   NaN     293.0  2008\n",
      "1034  Transit       1        4.187757   NaN     260.0  2008\n"
     ]
    }
   ],
   "source": [
    "# your code here\n",
    "print(df.tail(5))\n"
   ]
  },
  {
   "cell_type": "markdown",
   "id": "f3b88e60",
   "metadata": {},
   "source": [
    "### How many unique methods are there?"
   ]
  },
  {
   "cell_type": "code",
   "execution_count": 6,
   "id": "a1362dec",
   "metadata": {},
   "outputs": [
    {
     "name": "stdout",
     "output_type": "stream",
     "text": [
      "10\n"
     ]
    }
   ],
   "source": [
    "# your code here\n",
    "print(len(pd.unique(df[\"method\"])))\n"
   ]
  },
  {
   "cell_type": "markdown",
   "id": "40a73318",
   "metadata": {},
   "source": [
    "### What is the number of data collected in each year?"
   ]
  },
  {
   "cell_type": "code",
   "execution_count": 7,
   "id": "bbff0057",
   "metadata": {},
   "outputs": [
    {
     "name": "stdout",
     "output_type": "stream",
     "text": [
      "year\n",
      "2011    185\n",
      "2012    140\n",
      "2013    118\n",
      "2010    102\n",
      "2009     98\n",
      "2008     74\n",
      "2007     53\n",
      "2014     52\n",
      "2005     39\n",
      "2002     32\n",
      "2006     31\n",
      "2004     26\n",
      "2003     25\n",
      "2000     16\n",
      "1999     15\n",
      "2001     12\n",
      "1996      6\n",
      "1998      5\n",
      "1992      2\n",
      "1995      1\n",
      "1997      1\n",
      "1989      1\n",
      "1994      1\n",
      "Name: count, dtype: int64\n"
     ]
    }
   ],
   "source": [
    "# your code here\n",
    "print(df['year'].value_counts())\n"
   ]
  },
  {
   "cell_type": "markdown",
   "id": "f9c1c296",
   "metadata": {},
   "source": [
    "### Which columns have missing values and how many?"
   ]
  },
  {
   "cell_type": "code",
   "execution_count": 8,
   "id": "117c5843",
   "metadata": {},
   "outputs": [
    {
     "name": "stdout",
     "output_type": "stream",
     "text": [
      "method              0\n",
      "number              0\n",
      "orbital_period     43\n",
      "mass              522\n",
      "distance          227\n",
      "year                0\n",
      "dtype: int64\n"
     ]
    }
   ],
   "source": [
    "# your code here\n",
    "print(df.isna().sum())"
   ]
  },
  {
   "cell_type": "markdown",
   "id": "a4713e3e",
   "metadata": {},
   "source": [
    "### Write docstring for the function below."
   ]
  },
  {
   "cell_type": "code",
   "execution_count": 9,
   "id": "af47501b",
   "metadata": {},
   "outputs": [],
   "source": [
    "def do_something(x, y, z):\n",
    "    \"\"\" \n",
    "    Lorem ipsum dolor sit amet, consectetur adipiscing elit, sed do eiusmod tempor incididunt ut labore et dolore magna aliqua\n",
    "    \n",
    "    \"\"\"   \n",
    "\n",
    "    result = 1 / x + 1 / y + 1 / z\n",
    "\n",
    "    return 1 / result"
   ]
  },
  {
   "cell_type": "markdown",
   "id": "8225ef49",
   "metadata": {},
   "source": [
    "### Get (print) the docstring of the function defined above."
   ]
  },
  {
   "cell_type": "code",
   "execution_count": 10,
   "id": "8e07810b",
   "metadata": {},
   "outputs": [
    {
     "name": "stdout",
     "output_type": "stream",
     "text": [
      " \n",
      "    Lorem ipsum dolor sit amet, consectetur adipiscing elit, sed do eiusmod tempor incididunt ut labore et dolore magna aliqua\n",
      "    \n",
      "    \n"
     ]
    }
   ],
   "source": [
    "# your code here\n",
    "print(do_something.__doc__)"
   ]
  },
  {
   "cell_type": "markdown",
   "id": "43e14440",
   "metadata": {},
   "source": [
    "### Call do_something function for the (11,13,15) values and save it as result"
   ]
  },
  {
   "cell_type": "code",
   "execution_count": 11,
   "id": "58aac97e",
   "metadata": {},
   "outputs": [],
   "source": [
    "# your code here\n",
    "savedResult = do_something(11,13,15)\n"
   ]
  },
  {
   "cell_type": "markdown",
   "id": "021e9519",
   "metadata": {},
   "source": [
    "### In the variable 's' containing a sentence, extract the word using result defined above as index"
   ]
  },
  {
   "cell_type": "code",
   "execution_count": 12,
   "id": "c3838e95",
   "metadata": {},
   "outputs": [
    {
     "name": "stdout",
     "output_type": "stream",
     "text": [
      "and\n"
     ]
    }
   ],
   "source": [
    "s = \"I love Machine Learning and Deep Learning\"\n",
    "\n",
    "# use int() to convert the result to integer\n",
    "# your code here\n",
    "split = s.split()\n",
    "print(split[int(savedResult)])"
   ]
  },
  {
   "cell_type": "markdown",
   "id": "7d3b4ca2",
   "metadata": {},
   "source": [
    "### Sort the given array below, do not use built in functions. All sorting methods are allowed."
   ]
  },
  {
   "cell_type": "code",
   "execution_count": 4,
   "id": "f3e1c5c7",
   "metadata": {},
   "outputs": [
    {
     "name": "stdout",
     "output_type": "stream",
     "text": [
      "[85, 83, 56, 62, 70, 58, 57, 10, 86, 88]\n",
      "[10, 56, 57, 58, 62, 70, 83, 85, 86, 88]\n"
     ]
    }
   ],
   "source": [
    "import random\n",
    "\n",
    "arr = [random.randint(1, 100) for i in range(10)]\n",
    "\n",
    "# your code here\n",
    "def sort(array):\n",
    "    if len(array) <= 1:\n",
    "        return array\n",
    "    item = array.pop()\n",
    "\n",
    "    numbers_greater = []\n",
    "    numbers_smaller = []\n",
    "\n",
    "    for number in array:\n",
    "        if number > item:\n",
    "            numbers_greater.append(number)\n",
    "\n",
    "        else:\n",
    "            numbers_smaller.append(number)\n",
    "    return sort(numbers_smaller) + [item] + sort(numbers_greater)\n",
    "    \n",
    "print(arr)\n",
    "print(sort(arr))\n"
   ]
  },
  {
   "cell_type": "markdown",
   "id": "5211290d",
   "metadata": {},
   "source": [
    "### define a recursive function to calculate input numbers factorial named factorial"
   ]
  },
  {
   "cell_type": "code",
   "execution_count": 16,
   "id": "7fbc7f44",
   "metadata": {},
   "outputs": [
    {
     "name": "stdout",
     "output_type": "stream",
     "text": [
      "number:  7\n"
     ]
    },
    {
     "name": "stdout",
     "output_type": "stream",
     "text": [
      "5040\n"
     ]
    }
   ],
   "source": [
    "#your code here\n",
    "def factorial(x):\n",
    "   \n",
    "    if x<0 :\n",
    "        return \"factorials of negative numbers are not defined \"\n",
    "    elif x== 0:\n",
    "        return 1 \n",
    "\n",
    "    elif x<=1:\n",
    "        return x\n",
    "        \n",
    "    else:\n",
    "        return x * factorial(x-1)\n",
    "\n",
    "\n",
    "try:\n",
    "    d = int(input(\"number: \"))\n",
    "    print(factorial(d))\n",
    "\n",
    "except ValueError:\n",
    "    print(\"please enter a number \")"
   ]
  },
  {
   "cell_type": "markdown",
   "id": "7370a32c",
   "metadata": {},
   "source": [
    "### define a function to merge the given arrays and calculate the median named twoMedian"
   ]
  },
  {
   "cell_type": "code",
   "execution_count": 17,
   "id": "721c7a21",
   "metadata": {},
   "outputs": [
    {
     "name": "stdout",
     "output_type": "stream",
     "text": [
      "[9, 37, 39, 36, 3, 5, 22, 71, 67, 11, 60, 90, 99, 65]\n",
      "[94, 57, 78, 83, 30]\n",
      "57.0\n"
     ]
    }
   ],
   "source": [
    "# your code here\n",
    "ar1 = [random.randint(1, 100) for i in range(random.randint(5,15))]\n",
    "ar2 = [random.randint(1, 100) for i in range(random.randint(5,15))]\n",
    "\n",
    "print(ar1)\n",
    "print(ar2)\n",
    "\n",
    "\n",
    "def sumMedian(x,y):\n",
    "    z = x+y\n",
    "    twoMedian = np.median(z)\n",
    "    return twoMedian\n",
    "\n",
    "print(sumMedian(ar1,ar2))"
   ]
  }
 ],
 "metadata": {
  "kernelspec": {
   "display_name": "Python 3 (ipykernel)",
   "language": "python",
   "name": "python3"
  },
  "language_info": {
   "codemirror_mode": {
    "name": "ipython",
    "version": 3
   },
   "file_extension": ".py",
   "mimetype": "text/x-python",
   "name": "python",
   "nbconvert_exporter": "python",
   "pygments_lexer": "ipython3",
   "version": "3.11.5"
  }
 },
 "nbformat": 4,
 "nbformat_minor": 5
}
